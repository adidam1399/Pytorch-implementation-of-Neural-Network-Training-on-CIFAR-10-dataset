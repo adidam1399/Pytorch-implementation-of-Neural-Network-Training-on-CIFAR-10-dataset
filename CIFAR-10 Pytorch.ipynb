{
  "nbformat": 4,
  "nbformat_minor": 0,
  "metadata": {
    "colab": {
      "name": "EE-541 HW-5 Q-1.ipynb",
      "provenance": [],
      "collapsed_sections": []
    },
    "kernelspec": {
      "name": "python3",
      "display_name": "Python 3"
    },
    "language_info": {
      "name": "python"
    },
    "accelerator": "GPU",
    "widgets": {
      "application/vnd.jupyter.widget-state+json": {
        "05015e802c5d4f76934c216cc0ac84ab": {
          "model_module": "@jupyter-widgets/controls",
          "model_name": "HBoxModel",
          "model_module_version": "1.5.0",
          "state": {
            "_dom_classes": [],
            "_model_module": "@jupyter-widgets/controls",
            "_model_module_version": "1.5.0",
            "_model_name": "HBoxModel",
            "_view_count": null,
            "_view_module": "@jupyter-widgets/controls",
            "_view_module_version": "1.5.0",
            "_view_name": "HBoxView",
            "box_style": "",
            "children": [
              "IPY_MODEL_c66f5180f77746d6b32dc917747c1330",
              "IPY_MODEL_0b0cb05142244d878eb83c9a4da1e41f",
              "IPY_MODEL_f4fdf6ec3a504b7a917dfd9611e40e97"
            ],
            "layout": "IPY_MODEL_811d1971a595443baa343a8016399dbb"
          }
        },
        "c66f5180f77746d6b32dc917747c1330": {
          "model_module": "@jupyter-widgets/controls",
          "model_name": "HTMLModel",
          "model_module_version": "1.5.0",
          "state": {
            "_dom_classes": [],
            "_model_module": "@jupyter-widgets/controls",
            "_model_module_version": "1.5.0",
            "_model_name": "HTMLModel",
            "_view_count": null,
            "_view_module": "@jupyter-widgets/controls",
            "_view_module_version": "1.5.0",
            "_view_name": "HTMLView",
            "description": "",
            "description_tooltip": null,
            "layout": "IPY_MODEL_efd7410365c3484f9f9cbc4e8239b283",
            "placeholder": "​",
            "style": "IPY_MODEL_3154f7053e584069b2ed5fbd01a52673",
            "value": ""
          }
        },
        "0b0cb05142244d878eb83c9a4da1e41f": {
          "model_module": "@jupyter-widgets/controls",
          "model_name": "FloatProgressModel",
          "model_module_version": "1.5.0",
          "state": {
            "_dom_classes": [],
            "_model_module": "@jupyter-widgets/controls",
            "_model_module_version": "1.5.0",
            "_model_name": "FloatProgressModel",
            "_view_count": null,
            "_view_module": "@jupyter-widgets/controls",
            "_view_module_version": "1.5.0",
            "_view_name": "ProgressView",
            "bar_style": "success",
            "description": "",
            "description_tooltip": null,
            "layout": "IPY_MODEL_e337e46c0ca74d5094cac1ec532a56b2",
            "max": 170498071,
            "min": 0,
            "orientation": "horizontal",
            "style": "IPY_MODEL_1fdb0d432555496bb92686275d97280d",
            "value": 170498071
          }
        },
        "f4fdf6ec3a504b7a917dfd9611e40e97": {
          "model_module": "@jupyter-widgets/controls",
          "model_name": "HTMLModel",
          "model_module_version": "1.5.0",
          "state": {
            "_dom_classes": [],
            "_model_module": "@jupyter-widgets/controls",
            "_model_module_version": "1.5.0",
            "_model_name": "HTMLModel",
            "_view_count": null,
            "_view_module": "@jupyter-widgets/controls",
            "_view_module_version": "1.5.0",
            "_view_name": "HTMLView",
            "description": "",
            "description_tooltip": null,
            "layout": "IPY_MODEL_5d180caf9c3048e9a85cd342f5d95e8e",
            "placeholder": "​",
            "style": "IPY_MODEL_24c7a507600b4e19b753295146901609",
            "value": " 170499072/? [00:02&lt;00:00, 64338514.70it/s]"
          }
        },
        "811d1971a595443baa343a8016399dbb": {
          "model_module": "@jupyter-widgets/base",
          "model_name": "LayoutModel",
          "model_module_version": "1.2.0",
          "state": {
            "_model_module": "@jupyter-widgets/base",
            "_model_module_version": "1.2.0",
            "_model_name": "LayoutModel",
            "_view_count": null,
            "_view_module": "@jupyter-widgets/base",
            "_view_module_version": "1.2.0",
            "_view_name": "LayoutView",
            "align_content": null,
            "align_items": null,
            "align_self": null,
            "border": null,
            "bottom": null,
            "display": null,
            "flex": null,
            "flex_flow": null,
            "grid_area": null,
            "grid_auto_columns": null,
            "grid_auto_flow": null,
            "grid_auto_rows": null,
            "grid_column": null,
            "grid_gap": null,
            "grid_row": null,
            "grid_template_areas": null,
            "grid_template_columns": null,
            "grid_template_rows": null,
            "height": null,
            "justify_content": null,
            "justify_items": null,
            "left": null,
            "margin": null,
            "max_height": null,
            "max_width": null,
            "min_height": null,
            "min_width": null,
            "object_fit": null,
            "object_position": null,
            "order": null,
            "overflow": null,
            "overflow_x": null,
            "overflow_y": null,
            "padding": null,
            "right": null,
            "top": null,
            "visibility": null,
            "width": null
          }
        },
        "efd7410365c3484f9f9cbc4e8239b283": {
          "model_module": "@jupyter-widgets/base",
          "model_name": "LayoutModel",
          "model_module_version": "1.2.0",
          "state": {
            "_model_module": "@jupyter-widgets/base",
            "_model_module_version": "1.2.0",
            "_model_name": "LayoutModel",
            "_view_count": null,
            "_view_module": "@jupyter-widgets/base",
            "_view_module_version": "1.2.0",
            "_view_name": "LayoutView",
            "align_content": null,
            "align_items": null,
            "align_self": null,
            "border": null,
            "bottom": null,
            "display": null,
            "flex": null,
            "flex_flow": null,
            "grid_area": null,
            "grid_auto_columns": null,
            "grid_auto_flow": null,
            "grid_auto_rows": null,
            "grid_column": null,
            "grid_gap": null,
            "grid_row": null,
            "grid_template_areas": null,
            "grid_template_columns": null,
            "grid_template_rows": null,
            "height": null,
            "justify_content": null,
            "justify_items": null,
            "left": null,
            "margin": null,
            "max_height": null,
            "max_width": null,
            "min_height": null,
            "min_width": null,
            "object_fit": null,
            "object_position": null,
            "order": null,
            "overflow": null,
            "overflow_x": null,
            "overflow_y": null,
            "padding": null,
            "right": null,
            "top": null,
            "visibility": null,
            "width": null
          }
        },
        "3154f7053e584069b2ed5fbd01a52673": {
          "model_module": "@jupyter-widgets/controls",
          "model_name": "DescriptionStyleModel",
          "model_module_version": "1.5.0",
          "state": {
            "_model_module": "@jupyter-widgets/controls",
            "_model_module_version": "1.5.0",
            "_model_name": "DescriptionStyleModel",
            "_view_count": null,
            "_view_module": "@jupyter-widgets/base",
            "_view_module_version": "1.2.0",
            "_view_name": "StyleView",
            "description_width": ""
          }
        },
        "e337e46c0ca74d5094cac1ec532a56b2": {
          "model_module": "@jupyter-widgets/base",
          "model_name": "LayoutModel",
          "model_module_version": "1.2.0",
          "state": {
            "_model_module": "@jupyter-widgets/base",
            "_model_module_version": "1.2.0",
            "_model_name": "LayoutModel",
            "_view_count": null,
            "_view_module": "@jupyter-widgets/base",
            "_view_module_version": "1.2.0",
            "_view_name": "LayoutView",
            "align_content": null,
            "align_items": null,
            "align_self": null,
            "border": null,
            "bottom": null,
            "display": null,
            "flex": null,
            "flex_flow": null,
            "grid_area": null,
            "grid_auto_columns": null,
            "grid_auto_flow": null,
            "grid_auto_rows": null,
            "grid_column": null,
            "grid_gap": null,
            "grid_row": null,
            "grid_template_areas": null,
            "grid_template_columns": null,
            "grid_template_rows": null,
            "height": null,
            "justify_content": null,
            "justify_items": null,
            "left": null,
            "margin": null,
            "max_height": null,
            "max_width": null,
            "min_height": null,
            "min_width": null,
            "object_fit": null,
            "object_position": null,
            "order": null,
            "overflow": null,
            "overflow_x": null,
            "overflow_y": null,
            "padding": null,
            "right": null,
            "top": null,
            "visibility": null,
            "width": null
          }
        },
        "1fdb0d432555496bb92686275d97280d": {
          "model_module": "@jupyter-widgets/controls",
          "model_name": "ProgressStyleModel",
          "model_module_version": "1.5.0",
          "state": {
            "_model_module": "@jupyter-widgets/controls",
            "_model_module_version": "1.5.0",
            "_model_name": "ProgressStyleModel",
            "_view_count": null,
            "_view_module": "@jupyter-widgets/base",
            "_view_module_version": "1.2.0",
            "_view_name": "StyleView",
            "bar_color": null,
            "description_width": ""
          }
        },
        "5d180caf9c3048e9a85cd342f5d95e8e": {
          "model_module": "@jupyter-widgets/base",
          "model_name": "LayoutModel",
          "model_module_version": "1.2.0",
          "state": {
            "_model_module": "@jupyter-widgets/base",
            "_model_module_version": "1.2.0",
            "_model_name": "LayoutModel",
            "_view_count": null,
            "_view_module": "@jupyter-widgets/base",
            "_view_module_version": "1.2.0",
            "_view_name": "LayoutView",
            "align_content": null,
            "align_items": null,
            "align_self": null,
            "border": null,
            "bottom": null,
            "display": null,
            "flex": null,
            "flex_flow": null,
            "grid_area": null,
            "grid_auto_columns": null,
            "grid_auto_flow": null,
            "grid_auto_rows": null,
            "grid_column": null,
            "grid_gap": null,
            "grid_row": null,
            "grid_template_areas": null,
            "grid_template_columns": null,
            "grid_template_rows": null,
            "height": null,
            "justify_content": null,
            "justify_items": null,
            "left": null,
            "margin": null,
            "max_height": null,
            "max_width": null,
            "min_height": null,
            "min_width": null,
            "object_fit": null,
            "object_position": null,
            "order": null,
            "overflow": null,
            "overflow_x": null,
            "overflow_y": null,
            "padding": null,
            "right": null,
            "top": null,
            "visibility": null,
            "width": null
          }
        },
        "24c7a507600b4e19b753295146901609": {
          "model_module": "@jupyter-widgets/controls",
          "model_name": "DescriptionStyleModel",
          "model_module_version": "1.5.0",
          "state": {
            "_model_module": "@jupyter-widgets/controls",
            "_model_module_version": "1.5.0",
            "_model_name": "DescriptionStyleModel",
            "_view_count": null,
            "_view_module": "@jupyter-widgets/base",
            "_view_module_version": "1.2.0",
            "_view_name": "StyleView",
            "description_width": ""
          }
        }
      }
    }
  },
  "cells": [
    {
      "cell_type": "markdown",
      "source": [
        "Performing the required imports"
      ],
      "metadata": {
        "id": "jy4XnnVBwNE8"
      }
    },
    {
      "cell_type": "code",
      "execution_count": 46,
      "metadata": {
        "id": "Ry-rUKW1wHqz"
      },
      "outputs": [],
      "source": [
        "import torch\n",
        "import torch.nn as nn\n",
        "import torchvision\n",
        "import torchvision.transforms as transforms\n",
        "import torch.nn.functional as F\n",
        "import numpy as np\n",
        "import matplotlib.pyplot as plt\n",
        "from sklearn import metrics\n",
        "import seaborn as sns"
      ]
    },
    {
      "cell_type": "code",
      "source": [
        "device=\"cuda\" if torch.cuda.is_available() else \"cpu\"\n",
        "print(\"The device is {0}\".format(device))"
      ],
      "metadata": {
        "colab": {
          "base_uri": "https://localhost:8080/"
        },
        "id": "EKde9ddkFhjP",
        "outputId": "e0d7abaf-68c9-4fe5-b88c-13fb760a6d1c"
      },
      "execution_count": 3,
      "outputs": [
        {
          "output_type": "stream",
          "name": "stdout",
          "text": [
            "The device is cuda\n"
          ]
        }
      ]
    },
    {
      "cell_type": "markdown",
      "source": [
        "Extracting the data"
      ],
      "metadata": {
        "id": "ujzjJC0xxqbb"
      }
    },
    {
      "cell_type": "code",
      "source": [
        "training_set=torchvision.datasets.CIFAR10(root=\"./data\",train=True,download=True,\n",
        "                                          transform=transforms.ToTensor())\n",
        "testing_set=torchvision.datasets.CIFAR10(root=\"./data\",train=False,download=True,\n",
        "                                          transform=transforms.ToTensor())"
      ],
      "metadata": {
        "colab": {
          "base_uri": "https://localhost:8080/",
          "height": 102,
          "referenced_widgets": [
            "05015e802c5d4f76934c216cc0ac84ab",
            "c66f5180f77746d6b32dc917747c1330",
            "0b0cb05142244d878eb83c9a4da1e41f",
            "f4fdf6ec3a504b7a917dfd9611e40e97",
            "811d1971a595443baa343a8016399dbb",
            "efd7410365c3484f9f9cbc4e8239b283",
            "3154f7053e584069b2ed5fbd01a52673",
            "e337e46c0ca74d5094cac1ec532a56b2",
            "1fdb0d432555496bb92686275d97280d",
            "5d180caf9c3048e9a85cd342f5d95e8e",
            "24c7a507600b4e19b753295146901609"
          ]
        },
        "id": "mYqX18s2x216",
        "outputId": "72bf2277-1cb0-492b-bf6c-2e86b6167d17"
      },
      "execution_count": 4,
      "outputs": [
        {
          "output_type": "stream",
          "name": "stdout",
          "text": [
            "Downloading https://www.cs.toronto.edu/~kriz/cifar-10-python.tar.gz to ./data/cifar-10-python.tar.gz\n"
          ]
        },
        {
          "output_type": "display_data",
          "data": {
            "text/plain": [
              "  0%|          | 0/170498071 [00:00<?, ?it/s]"
            ],
            "application/vnd.jupyter.widget-view+json": {
              "version_major": 2,
              "version_minor": 0,
              "model_id": "05015e802c5d4f76934c216cc0ac84ab"
            }
          },
          "metadata": {}
        },
        {
          "output_type": "stream",
          "name": "stdout",
          "text": [
            "Extracting ./data/cifar-10-python.tar.gz to ./data\n",
            "Files already downloaded and verified\n"
          ]
        }
      ]
    },
    {
      "cell_type": "markdown",
      "source": [
        "Loading the data (Data Loader)"
      ],
      "metadata": {
        "id": "DVRfyTwhzZeO"
      }
    },
    {
      "cell_type": "code",
      "source": [
        "train_loader=torch.utils.data.DataLoader(training_set,batch_size=70,shuffle=True\n",
        "                                         ,num_workers=2,pin_memory=True,\n",
        "                                         drop_last=True)\n",
        "test_loader=torch.utils.data.DataLoader(testing_set,batch_size=1,shuffle=False)"
      ],
      "metadata": {
        "id": "8DAlu_w_zegX"
      },
      "execution_count": 36,
      "outputs": []
    },
    {
      "cell_type": "code",
      "source": [
        "num_of_pixels=32*32*3\n",
        "dropout=nn.Dropout(0.3)"
      ],
      "metadata": {
        "id": "FR5LjhAO1bJw"
      },
      "execution_count": 6,
      "outputs": []
    },
    {
      "cell_type": "markdown",
      "source": [
        "Defining a modular neural network"
      ],
      "metadata": {
        "id": "bYMx1mZnz7C3"
      }
    },
    {
      "cell_type": "code",
      "source": [
        "class Neural_Net(nn.Module):\n",
        "  def __init__(self):\n",
        "    super(Neural_Net,self).__init__()\n",
        "    self.hidden1=nn.Linear(num_of_pixels,256)\n",
        "    self.hidden2=nn.Linear(256,128)\n",
        "    self.output=nn.Linear(128,10)\n",
        "\n",
        "  def forward(self,x):\n",
        "    x=F.relu(self.hidden1(x))\n",
        "    x=dropout(x)\n",
        "    x=F.relu(self.hidden2(x))\n",
        "    x=dropout(x)\n",
        "    x=F.softmax(self.output(x))\n",
        "    return x\n",
        "\n",
        "model=Neural_Net()"
      ],
      "metadata": {
        "id": "IxRJC3vH0AVB"
      },
      "execution_count": 7,
      "outputs": []
    },
    {
      "cell_type": "code",
      "source": [
        "loss_function=nn.CrossEntropyLoss()\n",
        "optimizer=torch.optim.SGD(model.parameters(),lr=0.01,weight_decay=0.0001,\n",
        "                          momentum=0.9)"
      ],
      "metadata": {
        "id": "6iRjeqMy7o_g"
      },
      "execution_count": 8,
      "outputs": []
    },
    {
      "cell_type": "markdown",
      "source": [
        "Verifying the model"
      ],
      "metadata": {
        "id": "p9MjGxu1-Hss"
      }
    },
    {
      "cell_type": "code",
      "source": [
        "print(model)"
      ],
      "metadata": {
        "colab": {
          "base_uri": "https://localhost:8080/"
        },
        "id": "-3EUTjOODWfq",
        "outputId": "7a4b7303-4e24-4878-99d1-9cb10dbce216"
      },
      "execution_count": 9,
      "outputs": [
        {
          "output_type": "stream",
          "name": "stdout",
          "text": [
            "Neural_Net(\n",
            "  (hidden1): Linear(in_features=3072, out_features=256, bias=True)\n",
            "  (hidden2): Linear(in_features=256, out_features=128, bias=True)\n",
            "  (output): Linear(in_features=128, out_features=10, bias=True)\n",
            ")\n"
          ]
        }
      ]
    },
    {
      "cell_type": "markdown",
      "source": [
        "Training the model"
      ],
      "metadata": {
        "id": "Eafc8gmAEFbg"
      }
    },
    {
      "cell_type": "code",
      "source": [
        "num_of_epochs=400\n",
        "count=0\n",
        "for epoch in range(num_of_epochs):\n",
        "  correct=0\n",
        "  for images, labels in train_loader:\n",
        "    count+=1\n",
        "    input_image=images.view(-1,num_of_pixels)\n",
        "    outputs=model(input_image)\n",
        "    loss=loss_function(outputs,labels)\n",
        "    # Back prop\n",
        "    optimizer.zero_grad()\n",
        "    loss.backward()\n",
        "    # Update weights (optimize)\n",
        "    optimizer.step()\n",
        "    # Evaluating the performance\n",
        "    predictions=torch.max(outputs,1)[1]\n",
        "    correct+=(predictions==labels).sum().numpy()\n",
        "\n",
        "  if((epoch)%20==0):\n",
        "    print(\"Epoch is: {0}, Loss is {1} and Accuracy is: {2}\".format(epoch+1,loss.data,100*correct/len(train_loader.dataset)))\n",
        "\n",
        "print(\"Finished Training\")"
      ],
      "metadata": {
        "colab": {
          "base_uri": "https://localhost:8080/"
        },
        "id": "yFIWsQtw-E8L",
        "outputId": "f8eb5419-7e03-4bbc-b81a-06d6fc2c1108"
      },
      "execution_count": 14,
      "outputs": [
        {
          "output_type": "stream",
          "name": "stderr",
          "text": [
            "/usr/local/lib/python3.7/dist-packages/ipykernel_launcher.py:13: UserWarning: Implicit dimension choice for softmax has been deprecated. Change the call to include dim=X as an argument.\n",
            "  del sys.path[0]\n"
          ]
        },
        {
          "output_type": "stream",
          "name": "stdout",
          "text": [
            "Epoch is: 1, Loss is 2.0152835845947266 and Accuracy is: 39.602\n",
            "Epoch is: 21, Loss is 1.9608254432678223 and Accuracy is: 45.12\n",
            "Epoch is: 41, Loss is 2.0034263134002686 and Accuracy is: 48.13\n",
            "Epoch is: 61, Loss is 2.0124564170837402 and Accuracy is: 49.824\n",
            "Epoch is: 81, Loss is 1.9444211721420288 and Accuracy is: 51.674\n",
            "Epoch is: 101, Loss is 2.049619436264038 and Accuracy is: 52.438\n",
            "Epoch is: 121, Loss is 1.9139920473098755 and Accuracy is: 53.456\n",
            "Epoch is: 141, Loss is 1.8799662590026855 and Accuracy is: 53.962\n",
            "Epoch is: 161, Loss is 1.7413971424102783 and Accuracy is: 54.936\n",
            "Epoch is: 181, Loss is 1.8663212060928345 and Accuracy is: 55.71\n",
            "Epoch is: 201, Loss is 1.840824007987976 and Accuracy is: 56.19\n",
            "Epoch is: 221, Loss is 1.8995040655136108 and Accuracy is: 56.538\n",
            "Epoch is: 241, Loss is 1.9262555837631226 and Accuracy is: 57.35\n",
            "Epoch is: 261, Loss is 2.0203959941864014 and Accuracy is: 57.042\n",
            "Epoch is: 281, Loss is 1.8360360860824585 and Accuracy is: 57.926\n",
            "Epoch is: 301, Loss is 1.9029560089111328 and Accuracy is: 57.778\n",
            "Epoch is: 321, Loss is 1.9247275590896606 and Accuracy is: 58.67\n",
            "Epoch is: 341, Loss is 1.866392970085144 and Accuracy is: 58.572\n",
            "Epoch is: 361, Loss is 1.8665906190872192 and Accuracy is: 58.694\n",
            "Epoch is: 381, Loss is 1.880460262298584 and Accuracy is: 59.08\n",
            "Finished Training\n"
          ]
        }
      ]
    },
    {
      "cell_type": "markdown",
      "source": [
        "Checking the performance on test set"
      ],
      "metadata": {
        "id": "_cmGu3-obVMI"
      }
    },
    {
      "cell_type": "code",
      "source": [
        "iteration_list = []\n",
        "accuracy_list = []\n",
        "prediction_list = []\n",
        "label_list = []\n",
        "\n",
        "with torch.no_grad():\n",
        "  total = 0\n",
        "  correct = 0\n",
        "  for images, labels in test_loader:\n",
        "    label_list.append(labels.numpy()[0])\n",
        "    model.eval()\n",
        "\n",
        "    test = images.view(-1, num_of_pixels)\n",
        "    outputs = model(test)\n",
        "    predictions = torch.max(outputs, 1)[1]\n",
        "    prediction_list.append(predictions.numpy()[0])\n",
        "    correct += (predictions == labels).sum().numpy()\n",
        "    total += len(labels)\n",
        "\n",
        "  iteration_list.append(count)\n",
        "  print(f'Iteration: {count:5d}, Loss:{loss.data:.4f}, Final Accuracy:{correct*100/total:.3f}%')"
      ],
      "metadata": {
        "colab": {
          "base_uri": "https://localhost:8080/"
        },
        "id": "JYgHf0FZbEON",
        "outputId": "530ecb93-e214-40c9-93be-0dc2a2ac578e"
      },
      "execution_count": 42,
      "outputs": [
        {
          "output_type": "stream",
          "name": "stderr",
          "text": [
            "/usr/local/lib/python3.7/dist-packages/ipykernel_launcher.py:13: UserWarning: Implicit dimension choice for softmax has been deprecated. Change the call to include dim=X as an argument.\n",
            "  del sys.path[0]\n"
          ]
        },
        {
          "output_type": "stream",
          "name": "stdout",
          "text": [
            "Iteration: 287028, Loss:1.9119, Final Accuracy:50.050%\n"
          ]
        }
      ]
    },
    {
      "cell_type": "markdown",
      "source": [
        "Generating the confusion matrix"
      ],
      "metadata": {
        "id": "Z4dCTit7g11C"
      }
    },
    {
      "cell_type": "code",
      "source": [
        "confusion_matrix=metrics.confusion_matrix(label_list,prediction_list)\n",
        "plt.figure(figsize=(12,10))\n",
        "sns.heatmap(confusion_matrix,annot=True)"
      ],
      "metadata": {
        "colab": {
          "base_uri": "https://localhost:8080/",
          "height": 610
        },
        "id": "Qe7dWPjWegEM",
        "outputId": "121d28e7-5258-4614-c933-65a5a50b33a2"
      },
      "execution_count": 48,
      "outputs": [
        {
          "output_type": "execute_result",
          "data": {
            "text/plain": [
              "<matplotlib.axes._subplots.AxesSubplot at 0x7f545bdebf10>"
            ]
          },
          "metadata": {},
          "execution_count": 48
        },
        {
          "output_type": "display_data",
          "data": {
            "text/plain": [
              "<Figure size 864x720 with 2 Axes>"
            ],
            "image/png": "[encoded data removed]"
          },
          "metadata": {
            "needs_background": "light"
          }
        }
      ]
    },
    {
      "cell_type": "markdown",
      "source": [
        "##### For class 0, it is most likely to be confused with class 8\n",
        "##### For class 1, it is most likely to be confused with class 9\n",
        "##### For class 2, it is most likely to be confused with class 4\n",
        "##### For class 3, it is most likely to be confused with class 5\n",
        "##### For class 4, it is most likely to be confused with class 2\n",
        "##### For class 5, it is most likely to be confused with class 3\n",
        "##### For class 6, it is most likely to be confused with class 4\n",
        "#####For class 7, it is most likely to be confused with class 3\n",
        "##### For class 8, it is most likely to be confused with class 0\n",
        "##### For class 9, it is most likely to be confused with class 1"
      ],
      "metadata": {
        "id": "DsxMPKBwiBSK"
      }
    },
    {
      "cell_type": "markdown",
      "source": [
        "Class 0 and 8 are most likely to be confused overall"
      ],
      "metadata": {
        "id": "J_KnK3sCjD2m"
      }
    }
  ]
}
